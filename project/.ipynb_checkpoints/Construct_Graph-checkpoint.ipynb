{
 "cells": [
  {
   "cell_type": "markdown",
   "metadata": {},
   "source": [
    "# Construct Graph\n",
    "This code is used to construct temporal graphs from raw.csv,\n",
    "## 1 split raw csv to different time steps\n",
    "from ./raw_data.csv to ./proc_data_starttime_timestep.csv"
   ]
  },
  {
   "cell_type": "code",
   "execution_count": 549,
   "metadata": {},
   "outputs": [],
   "source": [
    "import pandas as pd\n",
    "import numpy as np\n",
    "import os\n",
    "import networkx as nx\n",
    "import re"
   ]
  },
  {
   "cell_type": "code",
   "execution_count": 550,
   "metadata": {},
   "outputs": [],
   "source": [
    "# read csv\n",
    "raw_df = pd.read_csv('./raw_data.csv')    #('./expand_class_df.csv')\n",
    "#prepare fields\n",
    "valid_fields= ['人物','地点','机构','职位']     #['name','location','organization','position','org_class']\n",
    "split_fields = ['机构','职位']    #['organization','position'] \n",
    "csv_rootdir = './proc_data/csvs/new/'\n",
    "\n",
    "index_key_field = '人物'\n",
    "update_fields = ['地点','机构','职位']"
   ]
  },
  {
   "cell_type": "code",
   "execution_count": 551,
   "metadata": {},
   "outputs": [
    {
     "name": "stdout",
     "output_type": "stream",
     "text": [
      "['处长', '调研员;处长', '总工程师;副局长', '党组成员;副主任', '']\n",
      "['处长', '调研员;处长', '总工程师;副局长', '党组成员;副主任', '']\n",
      "['处长', '调研员;处长', '总工程师;副局长', '党组成员;副主任', '']\n",
      "['处长', '调研员;处长', '总工程师;副局长', '党组成员;副主任', '']\n",
      "['处长', '调研员;处长', '总工程师;副局长', '党组成员;副主任', '']\n",
      "['处长', '调研员;处长', '总工程师;副局长', '党组成员;副主任', '']\n",
      "['处长', '调研员;处长', '总工程师;副局长', '党组成员;副主任', '']\n",
      "['处长', '调研员;处长', '总工程师;副局长', '党组成员;副主任', '']\n",
      "['处长', '调研员;处长', '总工程师;副局长', '党组成员;副主任', '']\n",
      "['处长', '调研员;处长', '总工程师;副局长', '党组成员;副主任', '']\n",
      "['处长', '调研员;处长', '总工程师;副局长', '党组成员;副主任', '']\n",
      "['处长', '调研员;处长', '总工程师;副局长', '党组成员;副主任', '']\n",
      "['处长', '调研员;处长', '总工程师;副局长', '党组成员;副主任', '']\n",
      "['处长', '调研员;处长', '总工程师;副局长', '党组成员;副主任', '']\n",
      "['处长', '调研员;处长', '总工程师;副局长', '党组成员;副主任', '']\n",
      "['党组成员;副局长', '']\n"
     ]
    }
   ],
   "source": [
    "## towards split version\n",
    "\n",
    "time_len = 2\n",
    "T_start =1980\n",
    "T_end = 2019\n",
    "\n",
    "csv_dir = os.path.join(csv_rootdir,str(time_len))\n",
    "if not os.path.isdir(csv_dir):\n",
    "    os.mkdir(csv_dir)\n",
    "    \n",
    "def check_valid_str_list(str_list): # ensure the last element is not '':\n",
    "    if str_list[-1]=='':\n",
    "        print(str_list)\n",
    "        return str_list[:-1]\n",
    "    else:\n",
    "        return str_list\n",
    "    \n",
    "for p_s in range(T_start,T_end,time_len):    #period start: p_s\n",
    "    temp_df=pd.DataFrame(columns=['age','name','location','organization','position'])\n",
    "    for index, row in raw_df.iterrows():\n",
    "        p_e = p_s+time_len # period\n",
    "        if float(row['t_start'])<p_e and float(row['t_end'])>p_s: # satisfy time constraints\n",
    "            # transpose the birthday to age\n",
    "            age= p_s+time_len/2.0 - int(row['生日'])\n",
    "            temp_dict = row[valid_fields].to_dict()\n",
    "            temp_dict['age'] = age\n",
    "#             if type(temp_dict['机构'])!=str:\n",
    "#                 temp_dict['机构']=''\n",
    "#             if type(temp_dict['职位'])!=str:\n",
    "#                 temp_dict['职位']=''\n",
    "            for field in split_fields:\n",
    "                if type(temp_dict[field])!=str:\n",
    "                    temp_dict[field]=''\n",
    "                \n",
    "            org_list = temp_dict['机构'].split('，')\n",
    "            org_list = check_valid_str_list(org_list)\n",
    "            pos_list = temp_dict['职位'].split('，')\n",
    "            pos_list = check_valid_str_list(pos_list)\n",
    "            if len(org_list)>1 or len(pos_list)>1:\n",
    "                max_len = max(len(org_list),len(pos_list))\n",
    "                sub_dict = temp_dict.copy()\n",
    "                for i in range(max_len):\n",
    "                    sub_dict['机构'] = org_list[i] if i<len(org_list) else 'Blank'\n",
    "                    sub_dict['机构'] = 'Blank' if type(sub_dict['机构'])!=str else sub_dict['机构']\n",
    "                    sub_dict['职位'] = pos_list[i] if i<len(pos_list) else 'Blank'\n",
    "                    sub_dict['职位'] = 'Blank' if type(sub_dict['机构'])!=str else sub_dict['职位']\n",
    "                    \n",
    "                    temp_df = temp_df.append(ch2eng(sub_dict),ignore_index=True)\n",
    "                #print(min_len)\n",
    "            else:\n",
    "                temp_df = temp_df.append(ch2eng(temp_dict),ignore_index=True)\n",
    "    #print(temp_df)\n",
    "    \n",
    "    temp_df.to_csv(csv_dir+'/'+str(p_s)+'_'+str(time_len)+'.csv',index=False)"
   ]
  },
  {
   "cell_type": "code",
   "execution_count": 311,
   "metadata": {},
   "outputs": [],
   "source": [
    "def ch2eng(ch_dict):\n",
    "    mappinglist={'人物':'name','地点':'location','机构':'organization','职位':'position'}\n",
    "    eng_dict = {}\n",
    "    for k,v in ch_dict.items():\n",
    "        if k in mappinglist.keys():\n",
    "            eng_dict[mappinglist[k]] = v\n",
    "        else:\n",
    "            eng_dict[k] = v\n",
    "    return eng_dict"
   ]
  },
  {
   "cell_type": "code",
   "execution_count": 259,
   "metadata": {},
   "outputs": [
    {
     "data": {
      "text/plain": [
       "{'name': '黄臻',\n",
       " 'location': '深圳市',\n",
       " 'organization': '深圳市科技创新委员会',\n",
       " 'position': '副主任;党组成员',\n",
       " 'age': 55.0}"
      ]
     },
     "execution_count": 259,
     "metadata": {},
     "output_type": "execute_result"
    }
   ],
   "source": [
    "ch2eng(temp_dict)"
   ]
  },
  {
   "cell_type": "markdown",
   "metadata": {},
   "source": [
    "## 1.1 generate class label for organizations"
   ]
  },
  {
   "cell_type": "code",
   "execution_count": 552,
   "metadata": {},
   "outputs": [],
   "source": [
    "## define some useful translations\n",
    "from fuzzywuzzy import fuzz\n",
    "from fuzzywuzzy import process\n",
    "\n",
    "#1 suppose org is the subset of the database\n",
    "def find_in(org,org_list):\n",
    "    result =False\n",
    "    if type(org_list)==list:\n",
    "        for data in org_list:\n",
    "            if type(data)==str:\n",
    "                if data in org:\n",
    "                    result = True\n",
    "    return result\n",
    "\n",
    "def find_label(org,org_df,threshold):\n",
    "    if type(org)==str:\n",
    "        for label in org_df.columns:\n",
    "            #if org in org_df[label].values:\n",
    "            if find_in(org,list(org_df[label].values)):\n",
    "                #print(label)\n",
    "                return label\n",
    "    return 'Else'\n",
    "def gen_org_class(df):\n",
    "    df['org_class'] = find_label(df['organization'],class_df,20)    # 如果是日期类型直接r['date'] = r['date'].date()\n",
    "    return df\n"
   ]
  },
  {
   "cell_type": "code",
   "execution_count": 556,
   "metadata": {},
   "outputs": [],
   "source": [
    "## define key arguments\n",
    "class_df = pd.read_csv('./classification.csv')\n",
    "csv_read_dir = './proc_data/csvs/2/'\n",
    "csv_write_dir = './proc_data/csvs/class/'"
   ]
  },
  {
   "cell_type": "code",
   "execution_count": 557,
   "metadata": {},
   "outputs": [
    {
     "data": {
      "text/plain": [
       "'./proc_data/csvs/2/2'"
      ]
     },
     "execution_count": 557,
     "metadata": {},
     "output_type": "execute_result"
    }
   ],
   "source": [
    "os.path.join(csv_read_dir,csv_file)"
   ]
  },
  {
   "cell_type": "code",
   "execution_count": 558,
   "metadata": {},
   "outputs": [],
   "source": [
    "csv_dir = os.path.join(csv_write_dir,str(time_len))\n",
    "if not os.path.isdir(csv_dir):\n",
    "    os.mkdir(csv_dir)\n",
    "    \n",
    "for csv_file in os.listdir(csv_read_dir):\n",
    "    df = pd.read_csv(os.path.join(csv_read_dir,csv_file))\n",
    "    expand_df = df.apply(gen_org_class, axis=1)\n",
    "    expand_df.to_csv(os.path.join(csv_write_dir,csv_file),index=False)\n"
   ]
  },
  {
   "cell_type": "markdown",
   "metadata": {},
   "source": [
    "## 2 from piece-wise csv to graph\n",
    "construct corresponding graph from eache time period"
   ]
  },
  {
   "cell_type": "code",
   "execution_count": 538,
   "metadata": {},
   "outputs": [],
   "source": [
    "# define key variables\n",
    "key_field = 'name'\n",
    "feature_fields=['location','organization','position','org_class']  #['location','organization','position'] \n",
    "csv_dir = './proc_data/csvs/class/2/'\n",
    "gml_dir = './proc_data/gmls/class/2/'\n",
    "dis_threshold = 20"
   ]
  },
  {
   "cell_type": "code",
   "execution_count": 542,
   "metadata": {},
   "outputs": [],
   "source": [
    "if not os.path.isdir(gml_dir):\n",
    "    os.mkdir(gml_dir)\n",
    "for time_file in os.listdir(csv_dir):\n",
    "    # print(time_file)\n",
    "    # read csv\n",
    "    time_df = pd.read_csv(os.path.join(csv_dir,time_file))\n",
    "    group = time_df.groupby(key_field)\n",
    "    pieces = dict(list(group))\n",
    "    G = nx.Graph()\n",
    "    for name, piece in pieces.items():\n",
    "        #print(name)\n",
    "        feature_dict = piece[feature_fields].to_dict('list')\n",
    "        age = piece['age'].mean()\n",
    "        G.add_node(name)\n",
    "        G.nodes[name]['age']=age\n",
    "        for fname,fval in feature_dict.items():\n",
    "            G.nodes[name][fname]=fval\n",
    "    add_edges(G,20)\n",
    "    nx.write_gml(G, gml_dir+'/'+time_file.split('.')[0]+\".gml\")"
   ]
  },
  {
   "cell_type": "code",
   "execution_count": 460,
   "metadata": {},
   "outputs": [],
   "source": [
    "for node, d in G.nodes(data=True):\n",
    "    for k, v in d.items():\n",
    "        if type(k)=='list':\n",
    "            print(type(k))"
   ]
  },
  {
   "cell_type": "code",
   "execution_count": 229,
   "metadata": {},
   "outputs": [],
   "source": [
    "# read csv\n",
    "time_df = pd.read_csv(os.path.join(proc_dir,time_file))\n",
    "group = time_df.groupby(key_field)"
   ]
  },
  {
   "cell_type": "code",
   "execution_count": 263,
   "metadata": {},
   "outputs": [],
   "source": [
    "G = nx.Graph()\n",
    "pieces = dict(list(group))\n",
    "for name, piece in pieces.items():\n",
    "    #print(name)\n",
    "    feature_dict = piece[feature_fields].to_dict('list')\n",
    "    age = piece['age'].mean()\n",
    "    G.add_node(name)\n",
    "    G.nodes[name]['age']=age\n",
    "    for fname,fval in feature_dict.items():\n",
    "        G.nodes[name][fname]=fval\n",
    "nx.write_graphml(G, \"test.graphml\")"
   ]
  },
  {
   "cell_type": "code",
   "execution_count": 296,
   "metadata": {},
   "outputs": [
    {
     "data": {
      "text/plain": [
       "39.0"
      ]
     },
     "execution_count": 296,
     "metadata": {},
     "output_type": "execute_result"
    }
   ],
   "source": [
    "G.nodes['丁强']['age']"
   ]
  },
  {
   "cell_type": "code",
   "execution_count": 246,
   "metadata": {},
   "outputs": [
    {
     "data": {
      "text/plain": [
       "40.0"
      ]
     },
     "execution_count": 246,
     "metadata": {},
     "output_type": "execute_result"
    }
   ],
   "source": [
    "piece['age'].mean()"
   ]
  },
  {
   "cell_type": "code",
   "execution_count": 231,
   "metadata": {},
   "outputs": [
    {
     "data": {
      "text/html": [
       "<div>\n",
       "<style scoped>\n",
       "    .dataframe tbody tr th:only-of-type {\n",
       "        vertical-align: middle;\n",
       "    }\n",
       "\n",
       "    .dataframe tbody tr th {\n",
       "        vertical-align: top;\n",
       "    }\n",
       "\n",
       "    .dataframe thead th {\n",
       "        text-align: right;\n",
       "    }\n",
       "</style>\n",
       "<table border=\"1\" class=\"dataframe\">\n",
       "  <thead>\n",
       "    <tr style=\"text-align: right;\">\n",
       "      <th></th>\n",
       "      <th>机构</th>\n",
       "      <th>职位</th>\n",
       "    </tr>\n",
       "  </thead>\n",
       "  <tbody>\n",
       "    <tr>\n",
       "      <th>0</th>\n",
       "      <td>原市规划与国土资源局规划处</td>\n",
       "      <td>副处长</td>\n",
       "    </tr>\n",
       "    <tr>\n",
       "      <th>1</th>\n",
       "      <td>原市规划局规划处</td>\n",
       "      <td>副处长;总师室调研员</td>\n",
       "    </tr>\n",
       "    <tr>\n",
       "      <th>2</th>\n",
       "      <td>市规划国土委地区规划处</td>\n",
       "      <td>处长</td>\n",
       "    </tr>\n",
       "    <tr>\n",
       "      <th>3</th>\n",
       "      <td>科技信息处</td>\n",
       "      <td>处长</td>\n",
       "    </tr>\n",
       "    <tr>\n",
       "      <th>4</th>\n",
       "      <td>龙华管理局</td>\n",
       "      <td>局长</td>\n",
       "    </tr>\n",
       "    <tr>\n",
       "      <th>5</th>\n",
       "      <td>深汕特别合作区管委会</td>\n",
       "      <td>副主任</td>\n",
       "    </tr>\n",
       "    <tr>\n",
       "      <th>6</th>\n",
       "      <td>总体规划处（市城市规划委员会秘书处）</td>\n",
       "      <td>Null</td>\n",
       "    </tr>\n",
       "    <tr>\n",
       "      <th>7</th>\n",
       "      <td>地区规划处（地名处）</td>\n",
       "      <td>Null</td>\n",
       "    </tr>\n",
       "    <tr>\n",
       "      <th>8</th>\n",
       "      <td>城市和建筑设计处（市雕塑办公室）</td>\n",
       "      <td>Null</td>\n",
       "    </tr>\n",
       "    <tr>\n",
       "      <th>9</th>\n",
       "      <td>盐田管理局</td>\n",
       "      <td>Null</td>\n",
       "    </tr>\n",
       "    <tr>\n",
       "      <th>10</th>\n",
       "      <td>深汕合作区管理局</td>\n",
       "      <td>Null</td>\n",
       "    </tr>\n",
       "    <tr>\n",
       "      <th>11</th>\n",
       "      <td>市规划国土发展研究中心</td>\n",
       "      <td>Null</td>\n",
       "    </tr>\n",
       "    <tr>\n",
       "      <th>12</th>\n",
       "      <td>市公共艺术中心（深圳雕塑院、市城市设计促进中心）</td>\n",
       "      <td>Null</td>\n",
       "    </tr>\n",
       "    <tr>\n",
       "      <th>13</th>\n",
       "      <td>市当代艺术馆与城市规划展览馆</td>\n",
       "      <td>Null</td>\n",
       "    </tr>\n",
       "  </tbody>\n",
       "</table>\n",
       "</div>"
      ],
      "text/plain": [
       "                          机构          职位\n",
       "0              原市规划与国土资源局规划处         副处长\n",
       "1                   原市规划局规划处  副处长;总师室调研员\n",
       "2                市规划国土委地区规划处          处长\n",
       "3                      科技信息处          处长\n",
       "4                      龙华管理局          局长\n",
       "5                 深汕特别合作区管委会         副主任\n",
       "6         总体规划处（市城市规划委员会秘书处）        Null\n",
       "7                 地区规划处（地名处）        Null\n",
       "8           城市和建筑设计处（市雕塑办公室）        Null\n",
       "9                      盐田管理局        Null\n",
       "10                  深汕合作区管理局        Null\n",
       "11               市规划国土发展研究中心        Null\n",
       "12  市公共艺术中心（深圳雕塑院、市城市设计促进中心）        Null\n",
       "13            市当代艺术馆与城市规划展览馆        Null"
      ]
     },
     "execution_count": 231,
     "metadata": {},
     "output_type": "execute_result"
    }
   ],
   "source": [
    "pieces['丁强'][feature_fields]"
   ]
  },
  {
   "cell_type": "code",
   "execution_count": 235,
   "metadata": {},
   "outputs": [
    {
     "data": {
      "text/plain": [
       "{'机构': ['原市规划与国土资源局规划处',\n",
       "  '原市规划局规划处',\n",
       "  '市规划国土委地区规划处',\n",
       "  '科技信息处',\n",
       "  '龙华管理局',\n",
       "  '深汕特别合作区管委会',\n",
       "  '总体规划处（市城市规划委员会秘书处）',\n",
       "  '地区规划处（地名处）',\n",
       "  '城市和建筑设计处（市雕塑办公室）',\n",
       "  '盐田管理局',\n",
       "  '深汕合作区管理局',\n",
       "  '市规划国土发展研究中心',\n",
       "  '市公共艺术中心（深圳雕塑院、市城市设计促进中心）',\n",
       "  '市当代艺术馆与城市规划展览馆'],\n",
       " '职位': ['副处长',\n",
       "  '副处长;总师室调研员',\n",
       "  '处长',\n",
       "  '处长',\n",
       "  '局长',\n",
       "  '副主任',\n",
       "  'Null',\n",
       "  'Null',\n",
       "  'Null',\n",
       "  'Null',\n",
       "  'Null',\n",
       "  'Null',\n",
       "  'Null',\n",
       "  'Null']}"
      ]
     },
     "execution_count": 235,
     "metadata": {},
     "output_type": "execute_result"
    }
   ],
   "source": [
    "pieces['丁强'][feature_fields].to_dict('list')"
   ]
  },
  {
   "cell_type": "markdown",
   "metadata": {},
   "source": [
    "## 3. read from gmls to construct Graphs\n",
    "This code simply exame how to read the graphs from GML files."
   ]
  },
  {
   "cell_type": "code",
   "execution_count": 291,
   "metadata": {},
   "outputs": [
    {
     "name": "stdout",
     "output_type": "stream",
     "text": [
      "NAN\n"
     ]
    }
   ],
   "source": [
    "import html\n",
    "s='&#19969;&#24378;'\n",
    "s= 'NAN'\n",
    "print(html.unescape(s))"
   ]
  },
  {
   "cell_type": "code",
   "execution_count": 482,
   "metadata": {},
   "outputs": [
    {
     "name": "stdout",
     "output_type": "stream",
     "text": [
      "1998_2.gml\n",
      "1984_2.gml\n",
      "2002_2.gml\n",
      "2006_2.gml\n",
      "2000_2.gml\n",
      "2010_2.gml\n",
      "1986_2.gml\n",
      "1992_2.gml\n",
      "1980_2.gml\n",
      "2016_2.gml\n",
      "1996_2.gml\n",
      "1982_2.gml\n",
      "1990_2.gml\n",
      "2004_2.gml\n",
      "1994_2.gml\n",
      "2012_2.gml\n",
      "2014_2.gml\n",
      "2008_2.gml\n",
      "2018_2.gml\n",
      "1988_2.gml\n"
     ]
    }
   ],
   "source": [
    "\n",
    "for file in os.listdir('./proc_data/gmls/2/'):\n",
    "    print(file)\n",
    "    mygraph = nx.read_gml('./proc_data/gmls/2/'+file)"
   ]
  },
  {
   "cell_type": "code",
   "execution_count": 426,
   "metadata": {},
   "outputs": [
    {
     "data": {
      "text/plain": [
       "{'age': 20.0,\n",
       " 'location': ['深圳市',\n",
       "  '深圳市',\n",
       "  '深圳市',\n",
       "  '深圳市',\n",
       "  '深圳市',\n",
       "  '深圳市',\n",
       "  '深圳市',\n",
       "  '深圳市',\n",
       "  '深圳市',\n",
       "  '深圳市',\n",
       "  '深圳市'],\n",
       " 'organization': ['市规划与国土资源局机关服务中心',\n",
       "  '市国土资源和房产管理局',\n",
       "  '地政和监察分局',\n",
       "  '直属分局',\n",
       "  '市规划和国土资源委员会行政监察处',\n",
       "  '秘书处',\n",
       "  '办公室（信访办）',\n",
       "  '机关党委（人事处）',\n",
       "  '龙岗管理局',\n",
       "  '坪山管理局',\n",
       "  '山水宾馆'],\n",
       " 'position': ['中心主任',\n",
       "  '办公室主任',\n",
       "  '局长',\n",
       "  '局长',\n",
       "  '处长',\n",
       "  '处长',\n",
       "  'Blank',\n",
       "  'Blank',\n",
       "  'Blank',\n",
       "  'Blank',\n",
       "  'Blank']}"
      ]
     },
     "execution_count": 426,
     "metadata": {},
     "output_type": "execute_result"
    }
   ],
   "source": [
    "f1 = mygraph.nodes['刘世会']\n",
    "f2 = mygraph.nodes['吴学龙']\n",
    "f1"
   ]
  },
  {
   "cell_type": "markdown",
   "metadata": {},
   "source": [
    "## 4.calculate distance and measure the distance"
   ]
  },
  {
   "cell_type": "code",
   "execution_count": 513,
   "metadata": {},
   "outputs": [],
   "source": [
    "from fuzzywuzzy import fuzz\n",
    "from fuzzywuzzy import process\n",
    "\n",
    "def fuzzy_element_dis(e1,e2,max_value):\n",
    "    #dis range (0-100)\n",
    "    correlation = fuzz.ratio(e1, e2)\n",
    "    dis = (100-correlation)*max_value\n",
    "    return dis\n",
    "def element_dis(e1,e2,max_value):\n",
    "    if e1==e2:\n",
    "        dis = 10\n",
    "    else:\n",
    "        dis = max_value\n",
    "    return dis"
   ]
  },
  {
   "cell_type": "code",
   "execution_count": 526,
   "metadata": {},
   "outputs": [],
   "source": [
    "def list_dis(f1,f2,fuzzy=True,max_value=100):\n",
    "    #distance =np.random.randn(1)[0]\n",
    "    f1_orgs = f1['organization'] if type(f1['organization'])==list else [f1['organization']]\n",
    "    f2_orgs = f2['organization'] if type(f2['organization'])==list else [f2['organization']]\n",
    "    min_dis = max_value\n",
    "    for f1_org in f1_orgs:\n",
    "        for f2_org in f2_orgs:\n",
    "            if fuzzy:\n",
    "                #print(f1_org,f2_org)\n",
    "                dis = fuzzy_element_dis(f1_org,f2_org)\n",
    "            else:\n",
    "                dis = element_dis(f1_org,f2_org,max_value)\n",
    "                \n",
    "            min_dis = dis if  dis < min_dis  else min_dis\n",
    "    #print(len(f1_orgs),len(f2_orgs))\n",
    "    return min_dis"
   ]
  },
  {
   "cell_type": "code",
   "execution_count": 527,
   "metadata": {},
   "outputs": [
    {
     "data": {
      "text/plain": [
       "({'age': 17.0,\n",
       "  'location': '哈尔滨市',\n",
       "  'organization': '哈尔滨工业大学',\n",
       "  'position': '本科生'},\n",
       " {'age': 17.0,\n",
       "  'location': ['深圳市', '深圳市', '深圳市', '深圳市', '深圳市', '深圳市', '深圳市'],\n",
       "  'organization': ['深圳市委组织部老干处',\n",
       "   '组织处',\n",
       "   '组织一处',\n",
       "   '组织二处',\n",
       "   '机关',\n",
       "   'Blank',\n",
       "   '分管领域和分管部门单位'],\n",
       "  'position': ['副处长', '处长', '主任', '调研员', '调研员', '党委副书记', 'Blank']})"
      ]
     },
     "execution_count": 527,
     "metadata": {},
     "output_type": "execute_result"
    }
   ],
   "source": [
    "f1,f2"
   ]
  },
  {
   "cell_type": "code",
   "execution_count": 528,
   "metadata": {},
   "outputs": [
    {
     "data": {
      "text/plain": [
       "100"
      ]
     },
     "execution_count": 528,
     "metadata": {},
     "output_type": "execute_result"
    }
   ],
   "source": [
    "list_dis(f1,f2)"
   ]
  },
  {
   "cell_type": "code",
   "execution_count": 529,
   "metadata": {},
   "outputs": [
    {
     "data": {
      "text/plain": [
       "100"
      ]
     },
     "execution_count": 529,
     "metadata": {},
     "output_type": "execute_result"
    }
   ],
   "source": [
    "fuzzy_element_dis('哈尔滨工业大学','Blank')"
   ]
  },
  {
   "cell_type": "code",
   "execution_count": 536,
   "metadata": {},
   "outputs": [],
   "source": [
    "def add_edges(G,threshold=20):\n",
    "    for name1 in G.nodes:\n",
    "        for name2 in G.nodes:\n",
    "            if name1 != name2:\n",
    "                f1 = G.nodes[name1]\n",
    "                f2 = G.nodes[name2]\n",
    "                dis = list_dis(f1,f2)\n",
    "                if dis < threshold:\n",
    "                    G.add_edge(name1,name2,weight=dis)\n",
    "                    #print(name1,name2,dis)\n",
    "                    #print(f1['organization'],f2['organization'])"
   ]
  },
  {
   "cell_type": "code",
   "execution_count": 537,
   "metadata": {},
   "outputs": [],
   "source": [
    "add_edges(mygraph)"
   ]
  },
  {
   "cell_type": "code",
   "execution_count": 540,
   "metadata": {},
   "outputs": [
    {
     "data": {
      "text/plain": [
       "EdgeDataView([('丁强', '刘世会', 20), ('丁强', '曾岳雄', 23), ('丁强', '王幼鹏', 31), ('丁强', '詹有力', 20), ('于宝明', '张陆', 38), ('于宝明', '王爱朝', 37), ('于宝明', '苏剑', 33), ('凌冲', '廖远飞', 38), ('凌冲', '张福通', 33), ('凌冲', '林翰章', 25), ('凌冲', '钟晓鸿', 37), ('刘世会', '朱文芳', 0), ('刘世会', '王东', 20), ('刘世会', '王幼鹏', 19), ('刘世会', '詹有力', 15), ('刘初汉', '张亚立', 38), ('吴学龙', '尹杰', 38), ('尹杰', '张亚立', 33), ('廖远飞', '钟伟民', 38), ('张学凡', '朱文芳', 14), ('张学凡', '高尔剑', 22), ('张陆', '郑小霞', 0), ('张陆', '苏剑', 27), ('曾岳雄', '詹有力', 38), ('朱文芳', '郭建', 25), ('朱文芳', '高尔剑', 23), ('李福民', '王爱朝', 8), ('林翰章', '王伟雄', 0), ('林翰章', '钟伟民', 0), ('林翰章', '郭建', 20), ('林翰章', '钟晓鸿', 13), ('王伟雄', '钟晓鸿', 10), ('王幼鹏', '詹有力', 21), ('王爱朝', '胡晓清', 30), ('胡晓清', '高瞻', 26), ('苏剑', '郑小霞', 29), ('郑小霞', '郭建', 0)])"
      ]
     },
     "execution_count": 540,
     "metadata": {},
     "output_type": "execute_result"
    }
   ],
   "source": [
    "mygraph.edges.data('weight')"
   ]
  },
  {
   "cell_type": "markdown",
   "metadata": {},
   "source": [
    "## 5 towards visualization"
   ]
  },
  {
   "cell_type": "code",
   "execution_count": 376,
   "metadata": {},
   "outputs": [
    {
     "data": {
      "image/png": "[encoded data removed]",
      "text/plain": [
       "<Figure size 432x288 with 1 Axes>"
      ]
     },
     "metadata": {},
     "output_type": "display_data"
    }
   ],
   "source": [
    "import matplotlib.pyplot as plt\n",
    "plt.subplot(121)\n",
    "nx.draw(mygraph, with_labels=False, font_weight='bold')"
   ]
  },
  {
   "cell_type": "code",
   "execution_count": 382,
   "metadata": {},
   "outputs": [
    {
     "data": {
      "image/png": "[encoded data removed]",
      "text/plain": [
       "<Figure size 432x288 with 2 Axes>"
      ]
     },
     "metadata": {},
     "output_type": "display_data"
    }
   ],
   "source": [
    "G = nx.petersen_graph()\n",
    "plt.subplot(121)\n",
    "nx.draw(G, with_labels=True, font_weight='bold')\n",
    "plt.subplot(122)\n",
    "nx.draw_shell(G, nlist=[range(5, 10), range(5)], with_labels=True, font_weight='bold')"
   ]
  },
  {
   "cell_type": "code",
   "execution_count": 381,
   "metadata": {},
   "outputs": [
    {
     "data": {
      "text/plain": [
       "{'feature': 'good'}"
      ]
     },
     "execution_count": 381,
     "metadata": {},
     "output_type": "execute_result"
    }
   ],
   "source": [
    "G.nodes[0]['feature']='good'\n",
    "G.nodes[0]"
   ]
  },
  {
   "cell_type": "code",
   "execution_count": null,
   "metadata": {},
   "outputs": [],
   "source": []
  },
  {
   "cell_type": "code",
   "execution_count": null,
   "metadata": {},
   "outputs": [],
   "source": []
  },
  {
   "cell_type": "code",
   "execution_count": null,
   "metadata": {},
   "outputs": [],
   "source": []
  },
  {
   "cell_type": "code",
   "execution_count": null,
   "metadata": {},
   "outputs": [],
   "source": []
  },
  {
   "cell_type": "code",
   "execution_count": null,
   "metadata": {},
   "outputs": [],
   "source": []
  },
  {
   "cell_type": "code",
   "execution_count": null,
   "metadata": {},
   "outputs": [],
   "source": []
  },
  {
   "cell_type": "code",
   "execution_count": null,
   "metadata": {},
   "outputs": [],
   "source": []
  },
  {
   "cell_type": "code",
   "execution_count": 151,
   "metadata": {},
   "outputs": [
    {
     "data": {
      "text/plain": [
       "'nan'"
      ]
     },
     "execution_count": 151,
     "metadata": {},
     "output_type": "execute_result"
    }
   ],
   "source": [
    "str(temp_dict[update_field])"
   ]
  },
  {
   "cell_type": "code",
   "execution_count": 130,
   "metadata": {},
   "outputs": [
    {
     "data": {
      "text/plain": [
       "'深圳市,广州市'"
      ]
     },
     "execution_count": 130,
     "metadata": {},
     "output_type": "execute_result"
    }
   ],
   "source": [
    "series['地点'].values[0]+','+'广州市'"
   ]
  },
  {
   "cell_type": "code",
   "execution_count": 148,
   "metadata": {},
   "outputs": [
    {
     "name": "stdout",
     "output_type": "stream",
     "text": [
      "same person\n",
      "1 1    深圳市\n",
      "Name: 地点, dtype: object\n",
      "same person\n",
      "4 4    湖北省\n",
      "Name: 地点, dtype: object\n",
      "same person\n",
      "True\n"
     ]
    },
    {
     "ename": "TypeError",
     "evalue": "can only concatenate str (not \"float\") to str",
     "output_type": "error",
     "traceback": [
      "\u001b[0;31m---------------------------------------------------------------------------\u001b[0m",
      "\u001b[0;31mTypeError\u001b[0m                                 Traceback (most recent call last)",
      "\u001b[0;32m<ipython-input-148-fbd42c93e2ca>\u001b[0m in \u001b[0;36m<module>\u001b[0;34m\u001b[0m\n\u001b[1;32m     21\u001b[0m                         \u001b[0mprint\u001b[0m\u001b[0;34m(\u001b[0m\u001b[0mnp\u001b[0m\u001b[0;34m.\u001b[0m\u001b[0misnan\u001b[0m\u001b[0;34m(\u001b[0m\u001b[0mtemp_dict\u001b[0m\u001b[0;34m[\u001b[0m\u001b[0mupdate_field\u001b[0m\u001b[0;34m]\u001b[0m\u001b[0;34m)\u001b[0m\u001b[0;34m)\u001b[0m\u001b[0;34m\u001b[0m\u001b[0;34m\u001b[0m\u001b[0m\n\u001b[1;32m     22\u001b[0m                     \u001b[0;32mif\u001b[0m \u001b[0mseries\u001b[0m\u001b[0;34m[\u001b[0m\u001b[0mupdate_field\u001b[0m\u001b[0;34m]\u001b[0m\u001b[0;34m.\u001b[0m\u001b[0mvalues\u001b[0m\u001b[0;34m[\u001b[0m\u001b[0;36m0\u001b[0m\u001b[0;34m]\u001b[0m\u001b[0;34m!=\u001b[0m\u001b[0mtemp_dict\u001b[0m\u001b[0;34m[\u001b[0m\u001b[0mupdate_field\u001b[0m\u001b[0;34m]\u001b[0m\u001b[0;34m:\u001b[0m\u001b[0;34m\u001b[0m\u001b[0;34m\u001b[0m\u001b[0m\n\u001b[0;32m---> 23\u001b[0;31m                         \u001b[0mseries\u001b[0m\u001b[0;34m[\u001b[0m\u001b[0mupdate_field\u001b[0m\u001b[0;34m]\u001b[0m\u001b[0;34m.\u001b[0m\u001b[0mvalues\u001b[0m\u001b[0;34m[\u001b[0m\u001b[0;36m0\u001b[0m\u001b[0;34m]\u001b[0m \u001b[0;34m=\u001b[0m\u001b[0mseries\u001b[0m\u001b[0;34m[\u001b[0m\u001b[0mupdate_field\u001b[0m\u001b[0;34m]\u001b[0m\u001b[0;34m.\u001b[0m\u001b[0mvalues\u001b[0m\u001b[0;34m[\u001b[0m\u001b[0;36m0\u001b[0m\u001b[0;34m]\u001b[0m\u001b[0;34m+\u001b[0m\u001b[0;34m','\u001b[0m\u001b[0;34m+\u001b[0m\u001b[0mtemp_dict\u001b[0m\u001b[0;34m[\u001b[0m\u001b[0mupdate_field\u001b[0m\u001b[0;34m]\u001b[0m\u001b[0;34m\u001b[0m\u001b[0;34m\u001b[0m\u001b[0m\n\u001b[0m\u001b[1;32m     24\u001b[0m                 \u001b[0mprint\u001b[0m\u001b[0;34m(\u001b[0m\u001b[0midx\u001b[0m\u001b[0;34m,\u001b[0m\u001b[0mseries\u001b[0m\u001b[0;34m[\u001b[0m\u001b[0;34m'地点'\u001b[0m\u001b[0;34m]\u001b[0m\u001b[0;34m)\u001b[0m\u001b[0;34m\u001b[0m\u001b[0;34m\u001b[0m\u001b[0m\n\u001b[1;32m     25\u001b[0m                 \u001b[0;32mpass\u001b[0m\u001b[0;34m\u001b[0m\u001b[0;34m\u001b[0m\u001b[0m\n",
      "\u001b[0;31mTypeError\u001b[0m: can only concatenate str (not \"float\") to str"
     ]
    }
   ],
   "source": [
    "## towards combination,error in value type, abandon\n",
    "\n",
    "time_len = 2\n",
    "T_start =2017 #1980\n",
    "T_end = 2019\n",
    "G=nx.Graph()\n",
    "\n",
    "for p_s in range(T_start,T_end,time_len):    #period start: p_s\n",
    "    temp_df=pd.DataFrame(columns=['age','人物','地点','机构','职位'])\n",
    "    for index, row in raw_df.iterrows():\n",
    "        p_e = p_s+time_len # period\n",
    "        if float(row['t_start'])<p_e and float(row['t_end'])>p_s: # satisfy time constraints\n",
    "            # transpose the birthday to age\n",
    "            age= p_s+time_len/2.0 - int(row['生日'])\n",
    "            temp_dict = row[valid_fields].to_dict()\n",
    "            temp_dict['age'] = age\n",
    "            if temp_dict['人物'] in temp_df['人物'].values:\n",
    "                print('same person')\n",
    "                series = temp_df[temp_df['人物']==temp_dict['人物']]\n",
    "                idx =series.index[0]\n",
    "                for update_field in update_fields:\n",
    "                    if type(temp_dict[update_field]) != str:\n",
    "                        print(np.isnan(temp_dict[update_field]))\n",
    "                    if series[update_field].values[0]!=temp_dict[update_field]:\n",
    "                        series[update_field].values[0] =series[update_field].values[0]+','+temp_dict[update_field]\n",
    "                print(idx,series['地点'])\n",
    "                pass\n",
    "            else:\n",
    "                temp_df = temp_df.append(temp_dict,ignore_index=True)\n",
    "    print(temp_df)\n",
    "            \n",
    "        "
   ]
  },
  {
   "cell_type": "code",
   "execution_count": 99,
   "metadata": {},
   "outputs": [
    {
     "data": {
      "text/plain": [
       "1"
      ]
     },
     "execution_count": 99,
     "metadata": {},
     "output_type": "execute_result"
    }
   ],
   "source": [
    "temp_df[temp_df['人物']=='于宝明'].index[0]"
   ]
  },
  {
   "cell_type": "code",
   "execution_count": 21,
   "metadata": {},
   "outputs": [
    {
     "data": {
      "text/plain": [
       "True"
      ]
     },
     "execution_count": 21,
     "metadata": {},
     "output_type": "execute_result"
    }
   ],
   "source": [
    "float(row['t_start'])<p_s+time_len"
   ]
  },
  {
   "cell_type": "code",
   "execution_count": 22,
   "metadata": {},
   "outputs": [
    {
     "data": {
      "text/plain": [
       "False"
      ]
     },
     "execution_count": 22,
     "metadata": {},
     "output_type": "execute_result"
    }
   ],
   "source": [
    "float(row['t_end'])>p_s"
   ]
  },
  {
   "cell_type": "code",
   "execution_count": 68,
   "metadata": {},
   "outputs": [
    {
     "data": {
      "text/plain": [
       "{'人物': '黄臻', '地点': '哈尔滨市', '机构': '哈尔滨工业大学', '职位': '本科生'}"
      ]
     },
     "execution_count": 68,
     "metadata": {},
     "output_type": "execute_result"
    }
   ],
   "source": [
    "new_row=row[valid_fields].to_dict()\n",
    "new_row"
   ]
  },
  {
   "cell_type": "code",
   "execution_count": 33,
   "metadata": {
    "scrolled": true
   },
   "outputs": [
    {
     "data": {
      "text/plain": [
       "192"
      ]
     },
     "execution_count": 33,
     "metadata": {},
     "output_type": "execute_result"
    }
   ],
   "source": [
    "int(192.8)"
   ]
  },
  {
   "cell_type": "code",
   "execution_count": 47,
   "metadata": {},
   "outputs": [],
   "source": [
    "for index, row in df.iterrows():\n",
    "    print(row)"
   ]
  },
  {
   "cell_type": "code",
   "execution_count": 61,
   "metadata": {},
   "outputs": [
    {
     "ename": "SyntaxError",
     "evalue": "invalid syntax (<ipython-input-61-2e498d4117f4>, line 1)",
     "output_type": "error",
     "traceback": [
      "\u001b[0;36m  File \u001b[0;32m\"<ipython-input-61-2e498d4117f4>\"\u001b[0;36m, line \u001b[0;32m1\u001b[0m\n\u001b[0;31m    row.add(('d':1))\u001b[0m\n\u001b[0m                ^\u001b[0m\n\u001b[0;31mSyntaxError\u001b[0m\u001b[0;31m:\u001b[0m invalid syntax\n"
     ]
    }
   ],
   "source": [
    "row.add(('d':1))"
   ]
  },
  {
   "cell_type": "code",
   "execution_count": 104,
   "metadata": {},
   "outputs": [
    {
     "data": {
      "text/html": [
       "<div>\n",
       "<style scoped>\n",
       "    .dataframe tbody tr th:only-of-type {\n",
       "        vertical-align: middle;\n",
       "    }\n",
       "\n",
       "    .dataframe tbody tr th {\n",
       "        vertical-align: top;\n",
       "    }\n",
       "\n",
       "    .dataframe thead th {\n",
       "        text-align: right;\n",
       "    }\n",
       "</style>\n",
       "<table border=\"1\" class=\"dataframe\">\n",
       "  <thead>\n",
       "    <tr style=\"text-align: right;\">\n",
       "      <th></th>\n",
       "      <th>date</th>\n",
       "      <th>a</th>\n",
       "      <th>b</th>\n",
       "    </tr>\n",
       "  </thead>\n",
       "  <tbody>\n",
       "    <tr>\n",
       "      <th>0</th>\n",
       "      <td>2018-03-11 10:00:12</td>\n",
       "      <td>1</td>\n",
       "      <td>5</td>\n",
       "    </tr>\n",
       "    <tr>\n",
       "      <th>1</th>\n",
       "      <td>2018-03-11 20:00:12</td>\n",
       "      <td>1</td>\n",
       "      <td>5</td>\n",
       "    </tr>\n",
       "    <tr>\n",
       "      <th>2</th>\n",
       "      <td>2018-03-12 20:00:12</td>\n",
       "      <td>1</td>\n",
       "      <td>5</td>\n",
       "    </tr>\n",
       "  </tbody>\n",
       "</table>\n",
       "</div>"
      ],
      "text/plain": [
       "                  date  a  b\n",
       "0  2018-03-11 10:00:12  1  5\n",
       "1  2018-03-11 20:00:12  1  5\n",
       "2  2018-03-12 20:00:12  1  5"
      ]
     },
     "execution_count": 104,
     "metadata": {},
     "output_type": "execute_result"
    }
   ],
   "source": [
    "df = pd.DataFrame([['2018-03-11 10:00:12', 1, 5], ['2018-03-11 20:00:12', 1, 5], ['2018-03-12 20:00:12', 1, 5]], columns=['date', 'a', 'b'])\n",
    "df"
   ]
  },
  {
   "cell_type": "code",
   "execution_count": 105,
   "metadata": {},
   "outputs": [
    {
     "data": {
      "text/html": [
       "<div>\n",
       "<style scoped>\n",
       "    .dataframe tbody tr th:only-of-type {\n",
       "        vertical-align: middle;\n",
       "    }\n",
       "\n",
       "    .dataframe tbody tr th {\n",
       "        vertical-align: top;\n",
       "    }\n",
       "\n",
       "    .dataframe thead th {\n",
       "        text-align: right;\n",
       "    }\n",
       "</style>\n",
       "<table border=\"1\" class=\"dataframe\">\n",
       "  <thead>\n",
       "    <tr style=\"text-align: right;\">\n",
       "      <th></th>\n",
       "      <th>a</th>\n",
       "      <th>b</th>\n",
       "    </tr>\n",
       "    <tr>\n",
       "      <th>date</th>\n",
       "      <th></th>\n",
       "      <th></th>\n",
       "    </tr>\n",
       "  </thead>\n",
       "  <tbody>\n",
       "    <tr>\n",
       "      <th>2018-03-11</th>\n",
       "      <td>2</td>\n",
       "      <td>10</td>\n",
       "    </tr>\n",
       "    <tr>\n",
       "      <th>2018-03-12</th>\n",
       "      <td>1</td>\n",
       "      <td>5</td>\n",
       "    </tr>\n",
       "  </tbody>\n",
       "</table>\n",
       "</div>"
      ],
      "text/plain": [
       "            a   b\n",
       "date             \n",
       "2018-03-11  2  10\n",
       "2018-03-12  1   5"
      ]
     },
     "execution_count": 105,
     "metadata": {},
     "output_type": "execute_result"
    }
   ],
   "source": [
    "def f(r):\n",
    "    r['date'] = r['date'].split(' ')[0]    # 如果是日期类型直接r['date'] = r['date'].date()\n",
    "    return r\n",
    "\n",
    "df.apply(f, axis=1).groupby('date').sum()"
   ]
  },
  {
   "cell_type": "code",
   "execution_count": 119,
   "metadata": {},
   "outputs": [],
   "source": [
    "group = df.apply(f, axis=1).groupby('date')"
   ]
  },
  {
   "cell_type": "code",
   "execution_count": 121,
   "metadata": {},
   "outputs": [
    {
     "data": {
      "text/plain": [
       "<pandas.core.groupby.generic.SeriesGroupBy object at 0x7fafb4ee2748>"
      ]
     },
     "execution_count": 121,
     "metadata": {},
     "output_type": "execute_result"
    }
   ],
   "source": [
    "group.a"
   ]
  },
  {
   "cell_type": "code",
   "execution_count": null,
   "metadata": {},
   "outputs": [],
   "source": []
  }
 ],
 "metadata": {
  "kernelspec": {
   "display_name": "Python 3",
   "language": "python",
   "name": "python3"
  },
  "language_info": {
   "codemirror_mode": {
    "name": "ipython",
    "version": 3
   },
   "file_extension": ".py",
   "mimetype": "text/x-python",
   "name": "python",
   "nbconvert_exporter": "python",
   "pygments_lexer": "ipython3",
   "version": "3.7.1"
  }
 },
 "nbformat": 4,
 "nbformat_minor": 2
}
