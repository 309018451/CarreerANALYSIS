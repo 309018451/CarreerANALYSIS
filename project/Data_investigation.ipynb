{
 "cells": [
  {
   "cell_type": "markdown",
   "metadata": {},
   "source": [
    "# Data investigation\n",
    "This script is to visualize the dataset to see some distribution on it. Based on titanic Kaggle"
   ]
  },
  {
   "cell_type": "code",
   "execution_count": 11,
   "metadata": {},
   "outputs": [],
   "source": [
    "# Load in our libraries\n",
    "import pandas as pd\n",
    "import numpy as np\n",
    "import re\n",
    "import sklearn\n",
    "import seaborn as sns\n",
    "import matplotlib.pyplot as plt\n",
    "import os\n",
    "%matplotlib inline\n",
    "\n",
    "import warnings\n",
    "warnings.filterwarnings('ignore')\n",
    "\n",
    "# Going to use these 5 base models for the stacking\n",
    "from sklearn.ensemble import (RandomForestClassifier, AdaBoostClassifier, \n",
    "                              GradientBoostingClassifier, ExtraTreesClassifier)\n",
    "from sklearn.svm import SVC"
   ]
  },
  {
   "cell_type": "code",
   "execution_count": 37,
   "metadata": {},
   "outputs": [],
   "source": [
    "df = pd.read_csv('./raw_data.csv')\n",
    "df = pd.read_csv('./proc_data/csvs/80/1980_80.csv')"
   ]
  },
  {
   "cell_type": "code",
   "execution_count": 24,
   "metadata": {},
   "outputs": [
    {
     "data": {
      "image/png": "[encoded data removed]",
      "text/plain": [
       "<Figure size 432x288 with 1 Axes>"
      ]
     },
     "metadata": {
      "needs_background": "light"
     },
     "output_type": "display_data"
    }
   ],
   "source": [
    "\n",
    "\n",
    "d=df['地点'].hist().get_figure()\n",
    "d.savefig('./地点.jpg')"
   ]
  },
  {
   "cell_type": "code",
   "execution_count": 10,
   "metadata": {},
   "outputs": [
    {
     "data": {
      "text/plain": [
       "<bound method Series.max of 0      1987.09\n",
       "1      1991.07\n",
       "2      1992.11\n",
       "3      1993.10\n",
       "4      1996.04\n",
       "        ...   \n",
       "478    2016.09\n",
       "479    2018.08\n",
       "480    1985.07\n",
       "481    2016.08\n",
       "482    2019.06\n",
       "Name: t_start, Length: 483, dtype: float64>"
      ]
     },
     "execution_count": 10,
     "metadata": {},
     "output_type": "execute_result"
    }
   ],
   "source": [
    "df['t_start'].max"
   ]
  },
  {
   "cell_type": "code",
   "execution_count": 36,
   "metadata": {},
   "outputs": [
    {
     "name": "stdout",
     "output_type": "stream",
     "text": [
      "17.txt\n"
     ]
    }
   ],
   "source": [
    "for txt_file in sorted(os.listdir('./SZ_data')):\n",
    "    with open('./SZ_data/'+txt_file,'rt') as f:\n",
    "        lines = f.readlines()\n",
    "        for line in lines:\n",
    "            if '黄臻' in line:\n",
    "                print(txt_file)"
   ]
  },
  {
   "cell_type": "code",
   "execution_count": 26,
   "metadata": {},
   "outputs": [
    {
     "data": {
      "text/plain": [
       "深圳市     423\n",
       "广东省       9\n",
       "哈尔滨市      9\n",
       "北京市       8\n",
       "吉林省       6\n",
       "广西省       4\n",
       "湖北省       3\n",
       "武汉省       3\n",
       "郑州市       2\n",
       "浙江省       2\n",
       "上海市       2\n",
       "香港        2\n",
       "陕西省       1\n",
       "天津市       1\n",
       "美国        1\n",
       "兰州市       1\n",
       "长沙市       1\n",
       "南京市       1\n",
       "武汉市       1\n",
       "成都市       1\n",
       "西安市       1\n",
       "江西省       1\n",
       "Name: 地点, dtype: int64"
      ]
     },
     "execution_count": 26,
     "metadata": {},
     "output_type": "execute_result"
    }
   ],
   "source": [
    "df['地点'].value_counts()"
   ]
  },
  {
   "cell_type": "code",
   "execution_count": 27,
   "metadata": {},
   "outputs": [
    {
     "data": {
      "text/plain": [
       "处长                            34\n",
       "党组成员;副局长                      19\n",
       "副处长                           16\n",
       "副主任                           11\n",
       "副巡视员                           9\n",
       "                              ..\n",
       "党组成员;副局长，党委书记                  1\n",
       "主任助理                           1\n",
       "办公室主任，副处级秘书;正处级秘书，处长，处长，处长     1\n",
       "高级研究员                          1\n",
       "副主任，副馆长，署长                     1\n",
       "Name: 职位, Length: 241, dtype: int64"
      ]
     },
     "execution_count": 27,
     "metadata": {},
     "output_type": "execute_result"
    }
   ],
   "source": [
    "df['职位'].value_counts()"
   ]
  },
  {
   "cell_type": "code",
   "execution_count": 49,
   "metadata": {},
   "outputs": [
    {
     "data": {
      "text/plain": [
       "深圳市人力资源和社会保障局    13\n",
       "深圳市财政局           11\n",
       "深圳市司法局           11\n",
       "Blank            10\n",
       "深圳市生态环境局          9\n",
       "                 ..\n",
       "房地产业处             1\n",
       "深圳市政府法制办法治协调处     1\n",
       "市环境科学研究院          1\n",
       "法规处（审批综合处）        1\n",
       "直属分局              1\n",
       "Name: organization, Length: 720, dtype: int64"
      ]
     },
     "execution_count": 49,
     "metadata": {},
     "output_type": "execute_result"
    }
   ],
   "source": [
    "df['organization'].value_counts()"
   ]
  },
  {
   "cell_type": "code",
   "execution_count": null,
   "metadata": {},
   "outputs": [],
   "source": []
  }
 ],
 "metadata": {
  "kernelspec": {
   "display_name": "Python 3",
   "language": "python",
   "name": "python3"
  },
  "language_info": {
   "codemirror_mode": {
    "name": "ipython",
    "version": 3
   },
   "file_extension": ".py",
   "mimetype": "text/x-python",
   "name": "python",
   "nbconvert_exporter": "python",
   "pygments_lexer": "ipython3",
   "version": "3.7.1"
  }
 },
 "nbformat": 4,
 "nbformat_minor": 2
}
